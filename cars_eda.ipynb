{
 "cells": [
  {
   "attachments": {},
   "cell_type": "markdown",
   "metadata": {},
   "source": [
    "# Analise exploratória de carros a venda nos EUA\n",
    "\n",
    "<div align=\"left\">\n",
    "<img src=\"https://github.com/HelderSCordeiro/EDA_CARS/assets/97766575/98da3284-5032-4a74-8ee7-288cbfe2b2e3\" width=\"700px\" />\n",
    "</div>\n",
    "\n",
    "# 1. Introdução\n",
    "\n",
    "Automóvel (do grego αὐτός [\"autós\"], \"por si próprio\", e do latim mobilis, \"mobilidade\", como referência a um objeto responsável pela sua própria locomoção ou de outras pessoas em consoante) ou carro (das línguas celtas, através do latim carru)[1] é um veículo motorizado com rodas usado para transporte. Os carros entraram em uso global durante o século XX e as economias desenvolvidas dependem deles. O ano de 1886 é considerado como o ano de nascimento do carro moderno, quando o inventor alemão Karl Benz patenteou seu Benz Patent-Motorwagen.\n",
    "\n",
    "Neste estudo iremos analisar os carros a venda nos Estados Unidos da América, os dados foram obtidos da AUCTION EXPORT.com, os mesmos contem 28 marcas de veiculos a venda no pais. Ele contem o preço, marca, cor, entre outros.\n",
    "\n",
    "\n",
    "# 1.1. Objetivos\n",
    "\n",
    "O objetivo deste estudo é realizar uma Análise Exploratória dos Dados do conjunto de dados US Cars Dataset, disponível em USA_cars_datasets.csv; a fim de caracterizar os carros a leilão nos EUA. Especificiamente serão respondidas as seguintes questões de pesquisa:\n",
    "\n",
    "- Qual marca teve mais numero de vendas?\n",
    "- Qual veiculo foi mais comprado?\n",
    "- Quais modelos possuem maior faturamento?\n",
    "- Qual ano possuem carros em melhores condições?\n",
    "- Qual marca possui maior numero de carros em condições ruins?\n",
    "- Quais caracteristicas tem uma melhor probabilidade de oferecer um carro em melhores condições?\n",
    "\n",
    "\n",
    "\n",
    "# 2. Metodologia\n",
    "Nesta seção será apresentado todo o processo de preparação, organização e limpeza de dados feito no dataset que possui os seguintes dados:\n",
    "\n",
    "\n",
    "| Coluna            | Descrição                                | Tipo    |\n",
    "|-------------------|------------------------------------------|-------- |\n",
    "| Price             | Valor do veiculo a venda                 | Integer |\n",
    "| Years             | Ano de registro do veiculo               | Integer |\n",
    "| Brand             | Marca do carro                           | String  |\n",
    "| Model             | Modelo do veiculo                        | String  |\n",
    "| Color             | Cor do veiculo                           | String  |\n",
    "| State/City        | Cidade onde o carro está localizado      | String  |\n",
    "| Mileage           | Milhas percorridas pelo carro            | Float   |\n",
    "| Vin               | Identificação númerica do veiculo        | integer |\n",
    "| Title Status      | Classificação do veiculo                 | String  |\n",
    "| Lot               | Numero de identificação do lote          | Integer |\n",
    "| Condition         | Tempo                                    | String  |\n",
    "\n",
    "\n",
    "\n",
    "## OBSERVAÇÕES\n",
    "\n",
    "Title Status: clean vehicles e salvage insurance                         \n",
    "Lot: é um numero atribuido a uma quantidade especifica de carros produzidos\n"
   ]
  }
 ],
 "metadata": {
  "language_info": {
   "name": "python"
  },
  "orig_nbformat": 4
 },
 "nbformat": 4,
 "nbformat_minor": 2
}
